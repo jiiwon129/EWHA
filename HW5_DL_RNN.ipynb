{
  "nbformat": 4,
  "nbformat_minor": 0,
  "metadata": {
    "colab": {
      "provenance": [],
      "gpuType": "T4",
      "mount_file_id": "1CzetJRI1SExpnMj5EYyh5hUrySxdKTij",
      "authorship_tag": "ABX9TyOkywNfpt+GmDJsxQsFR9Bg",
      "include_colab_link": true
    },
    "kernelspec": {
      "name": "python3",
      "display_name": "Python 3"
    },
    "language_info": {
      "name": "python"
    },
    "accelerator": "GPU"
  },
  "cells": [
    {
      "cell_type": "markdown",
      "metadata": {
        "id": "view-in-github",
        "colab_type": "text"
      },
      "source": [
        "<a href=\"https://colab.research.google.com/github/jiiwon129/EWHA/blob/main/HW5_DL_RNN.ipynb\" target=\"_parent\"><img src=\"https://colab.research.google.com/assets/colab-badge.svg\" alt=\"Open In Colab\"/></a>"
      ]
    },
    {
      "cell_type": "markdown",
      "source": [
        "### **Problem 1. Short Question**"
      ],
      "metadata": {
        "id": "gG6GkyDrG8Ma"
      }
    },
    {
      "cell_type": "markdown",
      "source": [
        "**(a) RNN은 recurrence concept을 구현한 model이다. Recurrence concept에 대하여 서술하시오.**"
      ],
      "metadata": {
        "id": "66PmXldhHBYp"
      }
    },
    {
      "cell_type": "markdown",
      "source": [
        "Recurrence concept이란 과거의 정보를 기억하면서, 새로운 정보를 받아들임과 동시에 과거의 정보와 새로운 정보에 대한 새로운 관계를 추론해 내가는 관계이다."
      ],
      "metadata": {
        "id": "7g_6fZmyHCVs"
      }
    },
    {
      "cell_type": "markdown",
      "source": [
        "**(b) RNN의 hidden layer안에서 일어나는 식에 대해 서술하시오.**"
      ],
      "metadata": {
        "id": "KYMjQTtUHCSh"
      }
    },
    {
      "cell_type": "markdown",
      "source": [
        "일반적으로 타임 스텝 t에서의 셀의 상태 $h_t$는 그 타임 스텝의 입력과 이전 타임 스텝의 상태에 대한 함수이다.\n",
        "\n",
        "$h_t$ = $f(h_{t-1}, x_t)$\n",
        "- 타임 스텝 t에서의 출력 $y_t$도 이전 상태와 현재 입력에 대한 함수\n",
        "- 현재 시험 t에서의 hidden layer를 거치며 계산된 값\n",
        "\n",
        "Hidden layer: $h_t$ = tanh ($W_x x_t$ + $W_h h_{t-1}$ + $b$)\n",
        "- $W_x$: 입력값에 대한 가중치\n",
        "- $W_h$: 이전 시점인 t-1인 hidden layer에서 계산된 $h_{t-1}$을 위한 가중치\n",
        "\n",
        "정리하자면, 입력값으로 들어온 $x_t$와 이전 시점에서 계산된 $h_{t-1}$을 이용하여 현재 시점 t의 $h_t$가 계산된다. 이 값은 두 번 쓰이게 되는데, 현재 시점 t의 출력값인 $\\hat y_t$를 계산하는데 쓰이고, 다음 시점의 $h_{t+1}$을 구하는데 쓰인다."
      ],
      "metadata": {
        "id": "p4qYP2LxG0Fv"
      }
    },
    {
      "cell_type": "markdown",
      "source": [
        "**(c) LSTM은 Simple RNN(Vanilla RNN)의 어떤 단점을 보안한 모델인지 서술하시오.**"
      ],
      "metadata": {
        "id": "pn1i1C2AHI-C"
      }
    },
    {
      "cell_type": "markdown",
      "source": [
        "Simple RNN에서는 단기 기억상실의 문제가 발생한다. RNN에서 매 타임 스텝을 거치면서 일부 정보가 사라지게 되는데, 어느 정도의 시간이 지나면 RNN에서 첫 번째 입력의 흔적은 거의 남아있지 않는다.\n",
        "\n",
        "이처럼 Simple RNN은 장기 기억을 보존하지 못한다는 문제가 있는데, 이를 보완한 RNN model이 LSTM(Long Short-Term Memory)이다.\n",
        "\n",
        "LSTM은 은닉층의 메모리 셀에 입력 게이트, 삭제 게이트, 출력 게이트를 추가하여 불필요한 정보를 지우고 장기 상태에 저장할 정보를 정한다. 결론적으로 LSTM은 은닉 상태를 계산하는 식이 좀 더 복잡해지며, 장기 기억을 저장하기 위해 셀 상태(cell state, $c_t$)라는 값을 추가하게 된다."
      ],
      "metadata": {
        "id": "9sE6ZlDlHLDv"
      }
    },
    {
      "cell_type": "markdown",
      "source": [
        "**(d) LSTM은 입력 게이트, 삭제 게이트, 출력 게이트 3개의 게이트로 구성되어 있다. 각 게이트의 역할에 대해 서술하시오.**"
      ],
      "metadata": {
        "id": "2xGm0-csHMWf"
      }
    },
    {
      "cell_type": "markdown",
      "source": [
        "1. 입력 게이트(input gate)\n",
        "  - 현재의 정보를 기억하는 게이트\n",
        "  - 즉, 현재 시점의 입력값과 이전 은닉 상태를 바탕으로 얼마만큼의 새로운 정보를 셀 상태에 반영할 지 결정\n",
        "\n",
        "2. 삭제 게이트(forget gate)\n",
        "  - 장기 상태의 어느 부분이 삭제되어야 하는지 제어하는 게이트\n",
        "  - 즉, 이전 셀 상태로부터 얼마만큼의 정보를 삭제할 지를 결정\n",
        "  - 최종 sigmoid 함수를 지나면 0과 1 사이의 값이 반환\n",
        "    - 0에 가까울수록 정보가 많이 삭제된 것(과거의 정보가 중요하지 않음)\n",
        "    - 1에 가까울수록 정보를 많이 기억한 것(과거의 정보가 중요함)\n",
        "\n",
        "3. 출력 게이트(output gate)\n",
        "  - 현재의 은닉 상태를 생성하는 게이트\n",
        "  - 셀 상태를 바탕으로 최종 출력으로 어떤 정보를 내보낼 지 결정\n"
      ],
      "metadata": {
        "id": "CcEQA0tVHP2j"
      }
    },
    {
      "cell_type": "markdown",
      "source": [
        "**(e) LSTM와 GRU의 차이점에 대해 서술하시오.**"
      ],
      "metadata": {
        "id": "YRkh9SbyHQQr"
      }
    },
    {
      "cell_type": "markdown",
      "source": [
        "LSTM (Long Short-Term Memory)\n",
        "- 시계열 데이터, 긴 문장, 오디오 신호 등과 같이 장기적인 의존성을 가지는 데이터에서 좋은 성능을 보인다.\n",
        "- 내부에 3개의 게이트가 존재하며, 각 게이트가 정보를 선택적으로 기억하거나 잊고, 출력하는 과정을 제어한다.\n",
        "  - 입력 게이트(Input Gate): 어떤 새로운 정보를 기억할지 결정\n",
        "  - 삭제 게이트(Forget Gate): 과거의 어떤 정보를 잊을지 결정\n",
        "  - 출력 게이트(Output Gate): 셀 상태에서 어떤 정보를 출력할지 결정\n",
        "\n",
        "GRU (Gated Recurrent Unit)\n",
        "- LSTM을 간소화한 구조로, 계산 효율성과 학습 속도를 높이기 위해 설계되었다.\n",
        "- 내부에 2개의 게이트가 존재하며, 셀 상태와 hidden state가 분리되지 않고 하나로 통합되어 있다.\n",
        "  - 업데이트 게이트(Update Gate): 과거 정보를 얼마나 유지할지 결정 (입력 + 삭제 게이트 역할)\n",
        "  - 리셋 게이트(Reset Gate): 새로운 입력과 과거 정보를 어떻게 결합할지 결정"
      ],
      "metadata": {
        "id": "nyYvI1aDHSPK"
      }
    },
    {
      "cell_type": "markdown",
      "source": [
        "### **Problem 2. IMDB**"
      ],
      "metadata": {
        "id": "QJMxHfI_HTJY"
      }
    },
    {
      "cell_type": "markdown",
      "source": [
        "IMDB data는 영화 리뷰 데이터로 리뷰가 긍정인 경우 1, 부정인 경우 0으로 표시한 label로 구성된 데이터이다. Chapter 5 교안을 참고하여 데이터를 다운로드하시오."
      ],
      "metadata": {
        "id": "nT1QTwVPHiRD"
      }
    },
    {
      "cell_type": "markdown",
      "source": [
        "**(a) 데이터를 feature와 label로 나누시오.**"
      ],
      "metadata": {
        "id": "EtlNgZJAHkPk"
      }
    },
    {
      "cell_type": "code",
      "source": [
        "# Processing the labels of the raw IMDB data\n",
        "import os\n",
        "imdb_dir = '/content/drive/MyDrive/BBB data/IMDB'\n",
        "train_dir = os.path.join(imdb_dir, 'train')\n",
        "labels = []\n",
        "texts = []\n",
        "for label_type in ['neg', 'pos']:\n",
        "  dir_name = os.path.join(train_dir, label_type)\n",
        "  for fname in os.listdir(dir_name):\n",
        "    if fname[-4:] == '.txt':\n",
        "      f = open(os.path.join(dir_name, fname))\n",
        "      texts.append(f.read())\n",
        "      f.close()\n",
        "      if label_type == 'neg':\n",
        "        labels.append(0)\n",
        "      else:\n",
        "       labels.append(1)"
      ],
      "metadata": {
        "id": "8pR2kpnui4UY"
      },
      "execution_count": null,
      "outputs": []
    },
    {
      "cell_type": "markdown",
      "source": [
        "**(b) 데이터에 대하여 토큰화를 실행하시오.**"
      ],
      "metadata": {
        "id": "T8ttIw1qHnvL"
      }
    },
    {
      "cell_type": "code",
      "source": [
        "from tensorflow.keras.preprocessing.text import Tokenizer\n",
        "from tensorflow.keras.preprocessing.sequence import pad_sequences\n",
        "import numpy as np\n",
        "\n",
        "maxlen = 100\n",
        "max_words = 10000\n",
        "\n",
        "tokenizer = Tokenizer(num_words=max_words)\n",
        "tokenizer.fit_on_texts(texts)\n",
        "sequences = tokenizer.texts_to_sequences(texts)\n",
        "\n",
        "word_index = tokenizer.word_index\n",
        "print(f'Found {len(word_index)} unique tokens.')\n",
        "\n",
        "data = pad_sequences(sequences, maxlen=maxlen)\n",
        "\n",
        "labels = np.asarray(labels)\n",
        "print('Shape of data tensor:',data.shape)\n",
        "print('Shape of label tensor:',labels.shape)"
      ],
      "metadata": {
        "colab": {
          "base_uri": "https://localhost:8080/"
        },
        "id": "-UGdY2s5HqBF",
        "outputId": "f0448770-1711-4f00-f902-ce18f6d6f387"
      },
      "execution_count": null,
      "outputs": [
        {
          "output_type": "stream",
          "name": "stdout",
          "text": [
            "Found 88582 unique tokens.\n",
            "Shape of data tensor: (25000, 100)\n",
            "Shape of label tensor: (25000,)\n"
          ]
        }
      ]
    },
    {
      "cell_type": "markdown",
      "source": [
        "**(c) train data는 20000개, validation data는 5000개로 분리하시오.**"
      ],
      "metadata": {
        "id": "nVGHDNaBHqMr"
      }
    },
    {
      "cell_type": "code",
      "source": [
        "indices = np.arange(data.shape[0])\n",
        "np.random.shuffle(indices)\n",
        "data = data[indices]\n",
        "labels = labels[indices]\n",
        "\n",
        "training_samples = 20000\n",
        "validation_samples = 5000\n",
        "\n",
        "x_train = data[:training_samples]\n",
        "y_train = labels[:training_samples]\n",
        "x_val = data[training_samples: training_samples + validation_samples]\n",
        "y_val = labels[training_samples: training_samples + validation_samples]"
      ],
      "metadata": {
        "id": "gWwvx7axHrmo"
      },
      "execution_count": null,
      "outputs": []
    },
    {
      "cell_type": "markdown",
      "source": [
        "**(d) 딥러닝 모델을 정의할 때 모델의 하이퍼 파라미터는 모델의 성능에 영향을 준다. 따라서,\n",
        "좋은 성능의 모델을 찾기 위해선 은닉층의 개수, 층마다 있는 뉴런의 개수, 각 층에서 사용하는 활성화 함수, 가중치 초기화, 에포트, 배치 사이즈 등 다양한 하이퍼 파라미터에\n",
        "변화를 주며 최적의 조합을 찾아내야 한다. Keras를 이용하여 모델을 정의하도록 하며, 위\n",
        "에서 언급한 하이퍼 파라미터의 설정에 변화를 주어 각각 다른 5개의 모델을 정의하시오.\n",
        "(모델에 대한 코드를 반드시 첨부할 것.)**"
      ],
      "metadata": {
        "id": "jAT7H52tHtug"
      }
    },
    {
      "cell_type": "code",
      "source": [
        "from tensorflow.keras.models import Sequential\n",
        "from tensorflow.keras.layers import Embedding, Flatten, Dense"
      ],
      "metadata": {
        "id": "V7ck7uhNG094"
      },
      "execution_count": null,
      "outputs": []
    },
    {
      "cell_type": "markdown",
      "source": [
        "Model1을 기본 모델 정의 후, 나머지 4개의 모델은 Model1에서 하이퍼 파라미터를 변경하는 식으로 정의"
      ],
      "metadata": {
        "id": "uf5EOx7QH9J5"
      }
    },
    {
      "cell_type": "markdown",
      "source": [
        "Model1\n",
        "- 기본 모델 설정\n",
        "- Activation Function: relu\n",
        "- hidden layer 1개\n",
        "- Optimizer: rmsprop"
      ],
      "metadata": {
        "id": "KfeJYbzuHyLZ"
      }
    },
    {
      "cell_type": "code",
      "source": [
        "model1 = Sequential()\n",
        "model1.add(Embedding(max_words, 100, input_length=maxlen))\n",
        "model1.add(Flatten())\n",
        "model1.add(Dense(32, activation='relu'))\n",
        "model1.add(Dense(1, activation='sigmoid'))\n",
        "\n",
        "model1.compile(optimizer='rmsprop', loss='binary_crossentropy', metrics=['acc'])\n",
        "history1 = model1.fit(x_train, y_train, epochs=20, batch_size=32, validation_data=(x_val, y_val))"
      ],
      "metadata": {
        "colab": {
          "base_uri": "https://localhost:8080/"
        },
        "id": "yT3VKcW5GxsF",
        "outputId": "7c9c1637-cf71-4640-cefb-07cf74bd9a05"
      },
      "execution_count": null,
      "outputs": [
        {
          "output_type": "stream",
          "name": "stdout",
          "text": [
            "Epoch 1/20\n"
          ]
        },
        {
          "output_type": "stream",
          "name": "stderr",
          "text": [
            "/usr/local/lib/python3.11/dist-packages/keras/src/layers/core/embedding.py:90: UserWarning: Argument `input_length` is deprecated. Just remove it.\n",
            "  warnings.warn(\n"
          ]
        },
        {
          "output_type": "stream",
          "name": "stdout",
          "text": [
            "\u001b[1m625/625\u001b[0m \u001b[32m━━━━━━━━━━━━━━━━━━━━\u001b[0m\u001b[37m\u001b[0m \u001b[1m7s\u001b[0m 5ms/step - acc: 0.6968 - loss: 0.5471 - val_acc: 0.8472 - val_loss: 0.3479\n",
            "Epoch 2/20\n",
            "\u001b[1m625/625\u001b[0m \u001b[32m━━━━━━━━━━━━━━━━━━━━\u001b[0m\u001b[37m\u001b[0m \u001b[1m2s\u001b[0m 3ms/step - acc: 0.9401 - loss: 0.1663 - val_acc: 0.8252 - val_loss: 0.4297\n",
            "Epoch 3/20\n",
            "\u001b[1m625/625\u001b[0m \u001b[32m━━━━━━━━━━━━━━━━━━━━\u001b[0m\u001b[37m\u001b[0m \u001b[1m2s\u001b[0m 4ms/step - acc: 0.9933 - loss: 0.0260 - val_acc: 0.8192 - val_loss: 0.6480\n",
            "Epoch 4/20\n",
            "\u001b[1m625/625\u001b[0m \u001b[32m━━━━━━━━━━━━━━━━━━━━\u001b[0m\u001b[37m\u001b[0m \u001b[1m2s\u001b[0m 3ms/step - acc: 0.9989 - loss: 0.0040 - val_acc: 0.8182 - val_loss: 0.7695\n",
            "Epoch 5/20\n",
            "\u001b[1m625/625\u001b[0m \u001b[32m━━━━━━━━━━━━━━━━━━━━\u001b[0m\u001b[37m\u001b[0m \u001b[1m3s\u001b[0m 4ms/step - acc: 0.9999 - loss: 3.3749e-04 - val_acc: 0.8160 - val_loss: 0.8439\n",
            "Epoch 6/20\n",
            "\u001b[1m625/625\u001b[0m \u001b[32m━━━━━━━━━━━━━━━━━━━━\u001b[0m\u001b[37m\u001b[0m \u001b[1m3s\u001b[0m 4ms/step - acc: 0.9999 - loss: 4.8249e-04 - val_acc: 0.8142 - val_loss: 0.8822\n",
            "Epoch 7/20\n",
            "\u001b[1m625/625\u001b[0m \u001b[32m━━━━━━━━━━━━━━━━━━━━\u001b[0m\u001b[37m\u001b[0m \u001b[1m3s\u001b[0m 4ms/step - acc: 1.0000 - loss: 3.5212e-05 - val_acc: 0.8148 - val_loss: 0.9094\n",
            "Epoch 8/20\n",
            "\u001b[1m625/625\u001b[0m \u001b[32m━━━━━━━━━━━━━━━━━━━━\u001b[0m\u001b[37m\u001b[0m \u001b[1m2s\u001b[0m 4ms/step - acc: 1.0000 - loss: 2.5388e-05 - val_acc: 0.8148 - val_loss: 0.9230\n",
            "Epoch 9/20\n",
            "\u001b[1m625/625\u001b[0m \u001b[32m━━━━━━━━━━━━━━━━━━━━\u001b[0m\u001b[37m\u001b[0m \u001b[1m2s\u001b[0m 4ms/step - acc: 1.0000 - loss: 1.6024e-05 - val_acc: 0.8148 - val_loss: 0.9370\n",
            "Epoch 10/20\n",
            "\u001b[1m625/625\u001b[0m \u001b[32m━━━━━━━━━━━━━━━━━━━━\u001b[0m\u001b[37m\u001b[0m \u001b[1m2s\u001b[0m 3ms/step - acc: 1.0000 - loss: 1.3037e-05 - val_acc: 0.8160 - val_loss: 0.9501\n",
            "Epoch 11/20\n",
            "\u001b[1m625/625\u001b[0m \u001b[32m━━━━━━━━━━━━━━━━━━━━\u001b[0m\u001b[37m\u001b[0m \u001b[1m3s\u001b[0m 4ms/step - acc: 1.0000 - loss: 1.0844e-05 - val_acc: 0.8170 - val_loss: 0.9564\n",
            "Epoch 12/20\n",
            "\u001b[1m625/625\u001b[0m \u001b[32m━━━━━━━━━━━━━━━━━━━━\u001b[0m\u001b[37m\u001b[0m \u001b[1m2s\u001b[0m 4ms/step - acc: 1.0000 - loss: 9.1514e-06 - val_acc: 0.8170 - val_loss: 0.9638\n",
            "Epoch 13/20\n",
            "\u001b[1m625/625\u001b[0m \u001b[32m━━━━━━━━━━━━━━━━━━━━\u001b[0m\u001b[37m\u001b[0m \u001b[1m2s\u001b[0m 3ms/step - acc: 1.0000 - loss: 8.4201e-06 - val_acc: 0.8184 - val_loss: 0.9714\n",
            "Epoch 14/20\n",
            "\u001b[1m625/625\u001b[0m \u001b[32m━━━━━━━━━━━━━━━━━━━━\u001b[0m\u001b[37m\u001b[0m \u001b[1m2s\u001b[0m 3ms/step - acc: 1.0000 - loss: 7.1677e-06 - val_acc: 0.8180 - val_loss: 0.9762\n",
            "Epoch 15/20\n",
            "\u001b[1m625/625\u001b[0m \u001b[32m━━━━━━━━━━━━━━━━━━━━\u001b[0m\u001b[37m\u001b[0m \u001b[1m3s\u001b[0m 3ms/step - acc: 1.0000 - loss: 6.2460e-06 - val_acc: 0.8178 - val_loss: 0.9823\n",
            "Epoch 16/20\n",
            "\u001b[1m625/625\u001b[0m \u001b[32m━━━━━━━━━━━━━━━━━━━━\u001b[0m\u001b[37m\u001b[0m \u001b[1m2s\u001b[0m 4ms/step - acc: 1.0000 - loss: 5.8599e-06 - val_acc: 0.8180 - val_loss: 0.9877\n",
            "Epoch 17/20\n",
            "\u001b[1m625/625\u001b[0m \u001b[32m━━━━━━━━━━━━━━━━━━━━\u001b[0m\u001b[37m\u001b[0m \u001b[1m6s\u001b[0m 9ms/step - acc: 1.0000 - loss: 5.3474e-06 - val_acc: 0.8184 - val_loss: 0.9914\n",
            "Epoch 18/20\n",
            "\u001b[1m625/625\u001b[0m \u001b[32m━━━━━━━━━━━━━━━━━━━━\u001b[0m\u001b[37m\u001b[0m \u001b[1m5s\u001b[0m 8ms/step - acc: 1.0000 - loss: 5.1297e-06 - val_acc: 0.8182 - val_loss: 0.9973\n",
            "Epoch 19/20\n",
            "\u001b[1m625/625\u001b[0m \u001b[32m━━━━━━━━━━━━━━━━━━━━\u001b[0m\u001b[37m\u001b[0m \u001b[1m2s\u001b[0m 3ms/step - acc: 1.0000 - loss: 4.7377e-06 - val_acc: 0.8184 - val_loss: 1.0011\n",
            "Epoch 20/20\n",
            "\u001b[1m625/625\u001b[0m \u001b[32m━━━━━━━━━━━━━━━━━━━━\u001b[0m\u001b[37m\u001b[0m \u001b[1m3s\u001b[0m 5ms/step - acc: 1.0000 - loss: 4.4529e-06 - val_acc: 0.8182 - val_loss: 1.0052\n"
          ]
        }
      ]
    },
    {
      "cell_type": "markdown",
      "source": [
        "Model2\n",
        "- 뉴런 수 증가\n",
        "- Optimizer: adam\n",
        "- epochs 감소"
      ],
      "metadata": {
        "id": "geGWd3n2HT1C"
      }
    },
    {
      "cell_type": "code",
      "source": [
        "model2 = Sequential()\n",
        "model2.add(Embedding(max_words, 100, input_length=maxlen))\n",
        "model2.add(Flatten())\n",
        "model2.add(Dense(64, activation='relu'))\n",
        "model2.add(Dense(1, activation='sigmoid'))\n",
        "\n",
        "model2.compile(optimizer='adam', loss='binary_crossentropy', metrics=['acc'])\n",
        "history2 = model2.fit(x_train, y_train, epochs=10, batch_size=32, validation_data=(x_val, y_val))"
      ],
      "metadata": {
        "colab": {
          "base_uri": "https://localhost:8080/"
        },
        "id": "dx6xqLrYHZrc",
        "outputId": "4b66fcb4-85ce-4c6d-90e6-b3d68ffcf246"
      },
      "execution_count": null,
      "outputs": [
        {
          "output_type": "stream",
          "name": "stdout",
          "text": [
            "Epoch 1/10\n",
            "\u001b[1m625/625\u001b[0m \u001b[32m━━━━━━━━━━━━━━━━━━━━\u001b[0m\u001b[37m\u001b[0m \u001b[1m4s\u001b[0m 4ms/step - acc: 0.7001 - loss: 0.5400 - val_acc: 0.8474 - val_loss: 0.3435\n",
            "Epoch 2/10\n",
            "\u001b[1m625/625\u001b[0m \u001b[32m━━━━━━━━━━━━━━━━━━━━\u001b[0m\u001b[37m\u001b[0m \u001b[1m3s\u001b[0m 4ms/step - acc: 0.9668 - loss: 0.0983 - val_acc: 0.8218 - val_loss: 0.5313\n",
            "Epoch 3/10\n",
            "\u001b[1m625/625\u001b[0m \u001b[32m━━━━━━━━━━━━━━━━━━━━\u001b[0m\u001b[37m\u001b[0m \u001b[1m6s\u001b[0m 7ms/step - acc: 0.9966 - loss: 0.0116 - val_acc: 0.8242 - val_loss: 0.6700\n",
            "Epoch 4/10\n",
            "\u001b[1m625/625\u001b[0m \u001b[32m━━━━━━━━━━━━━━━━━━━━\u001b[0m\u001b[37m\u001b[0m \u001b[1m2s\u001b[0m 3ms/step - acc: 0.9998 - loss: 0.0013 - val_acc: 0.8260 - val_loss: 0.7276\n",
            "Epoch 5/10\n",
            "\u001b[1m625/625\u001b[0m \u001b[32m━━━━━━━━━━━━━━━━━━━━\u001b[0m\u001b[37m\u001b[0m \u001b[1m2s\u001b[0m 3ms/step - acc: 1.0000 - loss: 1.9382e-04 - val_acc: 0.8266 - val_loss: 0.7595\n",
            "Epoch 6/10\n",
            "\u001b[1m625/625\u001b[0m \u001b[32m━━━━━━━━━━━━━━━━━━━━\u001b[0m\u001b[37m\u001b[0m \u001b[1m3s\u001b[0m 3ms/step - acc: 1.0000 - loss: 9.3326e-05 - val_acc: 0.8278 - val_loss: 0.7843\n",
            "Epoch 7/10\n",
            "\u001b[1m625/625\u001b[0m \u001b[32m━━━━━━━━━━━━━━━━━━━━\u001b[0m\u001b[37m\u001b[0m \u001b[1m2s\u001b[0m 3ms/step - acc: 1.0000 - loss: 5.7183e-05 - val_acc: 0.8278 - val_loss: 0.8044\n",
            "Epoch 8/10\n",
            "\u001b[1m625/625\u001b[0m \u001b[32m━━━━━━━━━━━━━━━━━━━━\u001b[0m\u001b[37m\u001b[0m \u001b[1m3s\u001b[0m 4ms/step - acc: 1.0000 - loss: 3.6983e-05 - val_acc: 0.8288 - val_loss: 0.8232\n",
            "Epoch 9/10\n",
            "\u001b[1m625/625\u001b[0m \u001b[32m━━━━━━━━━━━━━━━━━━━━\u001b[0m\u001b[37m\u001b[0m \u001b[1m2s\u001b[0m 3ms/step - acc: 1.0000 - loss: 2.5949e-05 - val_acc: 0.8286 - val_loss: 0.8403\n",
            "Epoch 10/10\n",
            "\u001b[1m625/625\u001b[0m \u001b[32m━━━━━━━━━━━━━━━━━━━━\u001b[0m\u001b[37m\u001b[0m \u001b[1m2s\u001b[0m 3ms/step - acc: 1.0000 - loss: 1.7772e-05 - val_acc: 0.8308 - val_loss: 0.8591\n"
          ]
        }
      ]
    },
    {
      "cell_type": "markdown",
      "source": [
        "Model3\n",
        "- hidden layer 2개\n",
        "- Activation Function: tanh"
      ],
      "metadata": {
        "id": "wF4RosRlHp9D"
      }
    },
    {
      "cell_type": "code",
      "source": [
        "model3 = Sequential()\n",
        "model3.add(Embedding(max_words, 100, input_length=maxlen))\n",
        "model3.add(Flatten())\n",
        "model3.add(Dense(64, activation='tanh'))\n",
        "model3.add(Dense(32, activation='tanh'))\n",
        "model3.add(Dense(1, activation='sigmoid'))\n",
        "\n",
        "model3.compile(optimizer='rmsprop', loss='binary_crossentropy', metrics=['acc'])\n",
        "history3 = model3.fit(x_train, y_train, epochs=15, batch_size=32, validation_data=(x_val, y_val))"
      ],
      "metadata": {
        "colab": {
          "base_uri": "https://localhost:8080/"
        },
        "id": "10QYPRu9HjfJ",
        "outputId": "2f18cb35-b405-4083-f6a7-9a2a23271db6"
      },
      "execution_count": null,
      "outputs": [
        {
          "output_type": "stream",
          "name": "stdout",
          "text": [
            "Epoch 1/15\n",
            "\u001b[1m625/625\u001b[0m \u001b[32m━━━━━━━━━━━━━━━━━━━━\u001b[0m\u001b[37m\u001b[0m \u001b[1m7s\u001b[0m 5ms/step - acc: 0.6990 - loss: 0.5394 - val_acc: 0.8170 - val_loss: 0.4078\n",
            "Epoch 2/15\n",
            "\u001b[1m625/625\u001b[0m \u001b[32m━━━━━━━━━━━━━━━━━━━━\u001b[0m\u001b[37m\u001b[0m \u001b[1m7s\u001b[0m 4ms/step - acc: 0.9481 - loss: 0.1501 - val_acc: 0.8118 - val_loss: 0.4817\n",
            "Epoch 3/15\n",
            "\u001b[1m625/625\u001b[0m \u001b[32m━━━━━━━━━━━━━━━━━━━━\u001b[0m\u001b[37m\u001b[0m \u001b[1m2s\u001b[0m 3ms/step - acc: 0.9964 - loss: 0.0162 - val_acc: 0.8048 - val_loss: 0.8196\n",
            "Epoch 4/15\n",
            "\u001b[1m625/625\u001b[0m \u001b[32m━━━━━━━━━━━━━━━━━━━━\u001b[0m\u001b[37m\u001b[0m \u001b[1m3s\u001b[0m 4ms/step - acc: 0.9993 - loss: 0.0032 - val_acc: 0.8018 - val_loss: 1.2665\n",
            "Epoch 5/15\n",
            "\u001b[1m625/625\u001b[0m \u001b[32m━━━━━━━━━━━━━━━━━━━━\u001b[0m\u001b[37m\u001b[0m \u001b[1m3s\u001b[0m 4ms/step - acc: 0.9998 - loss: 4.8475e-04 - val_acc: 0.8006 - val_loss: 1.4629\n",
            "Epoch 6/15\n",
            "\u001b[1m625/625\u001b[0m \u001b[32m━━━━━━━━━━━━━━━━━━━━\u001b[0m\u001b[37m\u001b[0m \u001b[1m2s\u001b[0m 3ms/step - acc: 0.9999 - loss: 4.0049e-04 - val_acc: 0.7980 - val_loss: 1.5294\n",
            "Epoch 7/15\n",
            "\u001b[1m625/625\u001b[0m \u001b[32m━━━━━━━━━━━━━━━━━━━━\u001b[0m\u001b[37m\u001b[0m \u001b[1m2s\u001b[0m 3ms/step - acc: 1.0000 - loss: 5.4045e-06 - val_acc: 0.8012 - val_loss: 1.5416\n",
            "Epoch 8/15\n",
            "\u001b[1m625/625\u001b[0m \u001b[32m━━━━━━━━━━━━━━━━━━━━\u001b[0m\u001b[37m\u001b[0m \u001b[1m3s\u001b[0m 3ms/step - acc: 1.0000 - loss: 2.6251e-06 - val_acc: 0.8010 - val_loss: 1.5493\n",
            "Epoch 9/15\n",
            "\u001b[1m625/625\u001b[0m \u001b[32m━━━━━━━━━━━━━━━━━━━━\u001b[0m\u001b[37m\u001b[0m \u001b[1m2s\u001b[0m 4ms/step - acc: 1.0000 - loss: 2.1576e-06 - val_acc: 0.8018 - val_loss: 1.5578\n",
            "Epoch 10/15\n",
            "\u001b[1m625/625\u001b[0m \u001b[32m━━━━━━━━━━━━━━━━━━━━\u001b[0m\u001b[37m\u001b[0m \u001b[1m3s\u001b[0m 4ms/step - acc: 1.0000 - loss: 1.9356e-06 - val_acc: 0.8012 - val_loss: 1.5650\n",
            "Epoch 11/15\n",
            "\u001b[1m625/625\u001b[0m \u001b[32m━━━━━━━━━━━━━━━━━━━━\u001b[0m\u001b[37m\u001b[0m \u001b[1m2s\u001b[0m 4ms/step - acc: 1.0000 - loss: 1.6710e-06 - val_acc: 0.8016 - val_loss: 1.5716\n",
            "Epoch 12/15\n",
            "\u001b[1m625/625\u001b[0m \u001b[32m━━━━━━━━━━━━━━━━━━━━\u001b[0m\u001b[37m\u001b[0m \u001b[1m2s\u001b[0m 4ms/step - acc: 1.0000 - loss: 1.5814e-06 - val_acc: 0.8020 - val_loss: 1.5779\n",
            "Epoch 13/15\n",
            "\u001b[1m625/625\u001b[0m \u001b[32m━━━━━━━━━━━━━━━━━━━━\u001b[0m\u001b[37m\u001b[0m \u001b[1m2s\u001b[0m 3ms/step - acc: 1.0000 - loss: 1.4556e-06 - val_acc: 0.8018 - val_loss: 1.5834\n",
            "Epoch 14/15\n",
            "\u001b[1m625/625\u001b[0m \u001b[32m━━━━━━━━━━━━━━━━━━━━\u001b[0m\u001b[37m\u001b[0m \u001b[1m2s\u001b[0m 3ms/step - acc: 1.0000 - loss: 1.3730e-06 - val_acc: 0.8018 - val_loss: 1.5892\n",
            "Epoch 15/15\n",
            "\u001b[1m625/625\u001b[0m \u001b[32m━━━━━━━━━━━━━━━━━━━━\u001b[0m\u001b[37m\u001b[0m \u001b[1m3s\u001b[0m 4ms/step - acc: 1.0000 - loss: 1.2146e-06 - val_acc: 0.8020 - val_loss: 1.5943\n"
          ]
        }
      ]
    },
    {
      "cell_type": "markdown",
      "source": [
        "Model4\n",
        "- he_normal 초기화 사용"
      ],
      "metadata": {
        "id": "eMlI8FEgJANd"
      }
    },
    {
      "cell_type": "code",
      "source": [
        "from tensorflow.keras import initializers\n",
        "\n",
        "model4 = Sequential()\n",
        "model4.add(Embedding(max_words, 100, input_length=maxlen))\n",
        "model4.add(Flatten())\n",
        "model4.add(Dense(32, activation='relu', kernel_initializer=initializers.he_normal()))\n",
        "model4.add(Dense(1, activation='sigmoid'))\n",
        "\n",
        "model4.compile(optimizer='adam', loss='binary_crossentropy', metrics=['acc'])\n",
        "history4 = model4.fit(x_train, y_train, epochs=10, batch_size=32, validation_data=(x_val, y_val))"
      ],
      "metadata": {
        "colab": {
          "base_uri": "https://localhost:8080/"
        },
        "id": "95-sNTLOJGMj",
        "outputId": "40d85351-4e21-410f-e136-d2d93544a8eb"
      },
      "execution_count": null,
      "outputs": [
        {
          "output_type": "stream",
          "name": "stdout",
          "text": [
            "Epoch 1/10\n"
          ]
        },
        {
          "output_type": "stream",
          "name": "stderr",
          "text": [
            "/usr/local/lib/python3.11/dist-packages/keras/src/layers/core/embedding.py:90: UserWarning: Argument `input_length` is deprecated. Just remove it.\n",
            "  warnings.warn(\n"
          ]
        },
        {
          "output_type": "stream",
          "name": "stdout",
          "text": [
            "\u001b[1m625/625\u001b[0m \u001b[32m━━━━━━━━━━━━━━━━━━━━\u001b[0m\u001b[37m\u001b[0m \u001b[1m5s\u001b[0m 6ms/step - acc: 0.7035 - loss: 0.5368 - val_acc: 0.8394 - val_loss: 0.3602\n",
            "Epoch 2/10\n",
            "\u001b[1m625/625\u001b[0m \u001b[32m━━━━━━━━━━━━━━━━━━━━\u001b[0m\u001b[37m\u001b[0m \u001b[1m3s\u001b[0m 3ms/step - acc: 0.9661 - loss: 0.1059 - val_acc: 0.8214 - val_loss: 0.4746\n",
            "Epoch 3/10\n",
            "\u001b[1m625/625\u001b[0m \u001b[32m━━━━━━━━━━━━━━━━━━━━\u001b[0m\u001b[37m\u001b[0m \u001b[1m2s\u001b[0m 3ms/step - acc: 0.9973 - loss: 0.0132 - val_acc: 0.8342 - val_loss: 0.5713\n",
            "Epoch 4/10\n",
            "\u001b[1m625/625\u001b[0m \u001b[32m━━━━━━━━━━━━━━━━━━━━\u001b[0m\u001b[37m\u001b[0m \u001b[1m2s\u001b[0m 3ms/step - acc: 0.9993 - loss: 0.0032 - val_acc: 0.8214 - val_loss: 0.6620\n",
            "Epoch 5/10\n",
            "\u001b[1m625/625\u001b[0m \u001b[32m━━━━━━━━━━━━━━━━━━━━\u001b[0m\u001b[37m\u001b[0m \u001b[1m5s\u001b[0m 7ms/step - acc: 1.0000 - loss: 6.7006e-04 - val_acc: 0.8334 - val_loss: 0.6493\n",
            "Epoch 6/10\n",
            "\u001b[1m625/625\u001b[0m \u001b[32m━━━━━━━━━━━━━━━━━━━━\u001b[0m\u001b[37m\u001b[0m \u001b[1m3s\u001b[0m 5ms/step - acc: 1.0000 - loss: 1.7345e-04 - val_acc: 0.8378 - val_loss: 0.6676\n",
            "Epoch 7/10\n",
            "\u001b[1m625/625\u001b[0m \u001b[32m━━━━━━━━━━━━━━━━━━━━\u001b[0m\u001b[37m\u001b[0m \u001b[1m4s\u001b[0m 3ms/step - acc: 1.0000 - loss: 9.9959e-05 - val_acc: 0.8392 - val_loss: 0.6852\n",
            "Epoch 8/10\n",
            "\u001b[1m625/625\u001b[0m \u001b[32m━━━━━━━━━━━━━━━━━━━━\u001b[0m\u001b[37m\u001b[0m \u001b[1m2s\u001b[0m 3ms/step - acc: 1.0000 - loss: 6.4566e-05 - val_acc: 0.8402 - val_loss: 0.7019\n",
            "Epoch 9/10\n",
            "\u001b[1m625/625\u001b[0m \u001b[32m━━━━━━━━━━━━━━━━━━━━\u001b[0m\u001b[37m\u001b[0m \u001b[1m2s\u001b[0m 3ms/step - acc: 1.0000 - loss: 4.3404e-05 - val_acc: 0.8410 - val_loss: 0.7194\n",
            "Epoch 10/10\n",
            "\u001b[1m625/625\u001b[0m \u001b[32m━━━━━━━━━━━━━━━━━━━━\u001b[0m\u001b[37m\u001b[0m \u001b[1m2s\u001b[0m 3ms/step - acc: 1.0000 - loss: 2.9878e-05 - val_acc: 0.8420 - val_loss: 0.7351\n"
          ]
        }
      ]
    },
    {
      "cell_type": "markdown",
      "source": [
        "Model5\n",
        "- Dropout 추가\n",
        "- hidden layer 2개\n",
        "- batch size 증가"
      ],
      "metadata": {
        "id": "v0LkZ7jSJNKH"
      }
    },
    {
      "cell_type": "code",
      "source": [
        "from tensorflow.keras.layers import Dropout\n",
        "\n",
        "model5 = Sequential()\n",
        "model5.add(Embedding(max_words, 100, input_length=maxlen))\n",
        "model5.add(Flatten())\n",
        "model5.add(Dense(64, activation='relu'))\n",
        "model5.add(Dropout(0.5))\n",
        "model5.add(Dense(32, activation='relu'))\n",
        "model5.add(Dense(1, activation='sigmoid'))\n",
        "\n",
        "model5.compile(optimizer='rmsprop', loss='binary_crossentropy', metrics=['acc'])\n",
        "history5 = model5.fit(x_train, y_train, epochs=10, batch_size=64, validation_data=(x_val, y_val))"
      ],
      "metadata": {
        "colab": {
          "base_uri": "https://localhost:8080/"
        },
        "id": "6VjM3LJmJSkQ",
        "outputId": "05e4d507-588d-43ef-dd1d-86b451fdb33f"
      },
      "execution_count": null,
      "outputs": [
        {
          "output_type": "stream",
          "name": "stdout",
          "text": [
            "Epoch 1/10\n",
            "\u001b[1m313/313\u001b[0m \u001b[32m━━━━━━━━━━━━━━━━━━━━\u001b[0m\u001b[37m\u001b[0m \u001b[1m10s\u001b[0m 16ms/step - acc: 0.6196 - loss: 0.6192 - val_acc: 0.8392 - val_loss: 0.3677\n",
            "Epoch 2/10\n",
            "\u001b[1m313/313\u001b[0m \u001b[32m━━━━━━━━━━━━━━━━━━━━\u001b[0m\u001b[37m\u001b[0m \u001b[1m4s\u001b[0m 7ms/step - acc: 0.9080 - loss: 0.2376 - val_acc: 0.7964 - val_loss: 0.5129\n",
            "Epoch 3/10\n",
            "\u001b[1m313/313\u001b[0m \u001b[32m━━━━━━━━━━━━━━━━━━━━\u001b[0m\u001b[37m\u001b[0m \u001b[1m2s\u001b[0m 4ms/step - acc: 0.9802 - loss: 0.0622 - val_acc: 0.8118 - val_loss: 0.6994\n",
            "Epoch 4/10\n",
            "\u001b[1m313/313\u001b[0m \u001b[32m━━━━━━━━━━━━━━━━━━━━\u001b[0m\u001b[37m\u001b[0m \u001b[1m2s\u001b[0m 4ms/step - acc: 0.9951 - loss: 0.0150 - val_acc: 0.8232 - val_loss: 0.9315\n",
            "Epoch 5/10\n",
            "\u001b[1m313/313\u001b[0m \u001b[32m━━━━━━━━━━━━━━━━━━━━\u001b[0m\u001b[37m\u001b[0m \u001b[1m1s\u001b[0m 4ms/step - acc: 0.9983 - loss: 0.0068 - val_acc: 0.8220 - val_loss: 1.1564\n",
            "Epoch 6/10\n",
            "\u001b[1m313/313\u001b[0m \u001b[32m━━━━━━━━━━━━━━━━━━━━\u001b[0m\u001b[37m\u001b[0m \u001b[1m1s\u001b[0m 4ms/step - acc: 0.9991 - loss: 0.0030 - val_acc: 0.8182 - val_loss: 1.2291\n",
            "Epoch 7/10\n",
            "\u001b[1m313/313\u001b[0m \u001b[32m━━━━━━━━━━━━━━━━━━━━\u001b[0m\u001b[37m\u001b[0m \u001b[1m1s\u001b[0m 4ms/step - acc: 0.9991 - loss: 0.0029 - val_acc: 0.8248 - val_loss: 1.3640\n",
            "Epoch 8/10\n",
            "\u001b[1m313/313\u001b[0m \u001b[32m━━━━━━━━━━━━━━━━━━━━\u001b[0m\u001b[37m\u001b[0m \u001b[1m1s\u001b[0m 4ms/step - acc: 0.9991 - loss: 0.0025 - val_acc: 0.8218 - val_loss: 1.4674\n",
            "Epoch 9/10\n",
            "\u001b[1m313/313\u001b[0m \u001b[32m━━━━━━━━━━━━━━━━━━━━\u001b[0m\u001b[37m\u001b[0m \u001b[1m1s\u001b[0m 4ms/step - acc: 0.9993 - loss: 0.0019 - val_acc: 0.8268 - val_loss: 1.4622\n",
            "Epoch 10/10\n",
            "\u001b[1m313/313\u001b[0m \u001b[32m━━━━━━━━━━━━━━━━━━━━\u001b[0m\u001b[37m\u001b[0m \u001b[1m2s\u001b[0m 5ms/step - acc: 0.9994 - loss: 0.0015 - val_acc: 0.8266 - val_loss: 1.4880\n"
          ]
        }
      ]
    },
    {
      "cell_type": "markdown",
      "source": [
        "**(e) (d)의 결과에 대하여 모델별로 confution matrix를 구하시오. 어떤 모델의 성능이 가장 좋은\n",
        "가?**"
      ],
      "metadata": {
        "id": "XdQWwuF2Hy_p"
      }
    },
    {
      "cell_type": "code",
      "source": [
        "# Tokenizing the data of the test set\n",
        "\n",
        "test_dir = os.path.join(imdb_dir, 'test')\n",
        "\n",
        "labels = []\n",
        "texts = []\n",
        "\n",
        "for label_type in ['neg', 'pos']:\n",
        "    dir_name = os.path.join(test_dir, label_type)\n",
        "    for fname in sorted(os.listdir(dir_name)):\n",
        "        if fname[-4:] == '.txt':\n",
        "            f = open(os.path.join(dir_name, fname))\n",
        "            texts.append(f.read())\n",
        "            f.close()\n",
        "            if label_type == 'neg':\n",
        "                labels.append(0)\n",
        "            else:\n",
        "                labels.append(1)\n",
        "\n",
        "sequences = tokenizer.texts_to_sequences(texts)\n",
        "x_test = pad_sequences(sequences, maxlen=maxlen)\n",
        "y_test = np.asarray(labels)"
      ],
      "metadata": {
        "id": "spVJyJO-J5-s"
      },
      "execution_count": null,
      "outputs": []
    },
    {
      "cell_type": "code",
      "source": [
        "from sklearn.metrics import confusion_matrix, accuracy_score\n",
        "import numpy as np\n",
        "\n",
        "y_pred1 = (model1.predict(x_test) > 0.5).astype(\"int32\")\n",
        "y_pred2 = (model2.predict(x_test) > 0.5).astype(\"int32\")\n",
        "y_pred3 = (model3.predict(x_test) > 0.5).astype(\"int32\")\n",
        "y_pred4 = (model4.predict(x_test) > 0.5).astype(\"int32\")\n",
        "y_pred5 = (model5.predict(x_test) > 0.5).astype(\"int32\")"
      ],
      "metadata": {
        "colab": {
          "base_uri": "https://localhost:8080/"
        },
        "id": "jM5U7tREH4lb",
        "outputId": "a2d32af4-0fff-4cda-afbf-a14a5b3f7f2e"
      },
      "execution_count": null,
      "outputs": [
        {
          "output_type": "stream",
          "name": "stdout",
          "text": [
            "\u001b[1m782/782\u001b[0m \u001b[32m━━━━━━━━━━━━━━━━━━━━\u001b[0m\u001b[37m\u001b[0m \u001b[1m1s\u001b[0m 2ms/step\n",
            "\u001b[1m782/782\u001b[0m \u001b[32m━━━━━━━━━━━━━━━━━━━━\u001b[0m\u001b[37m\u001b[0m \u001b[1m1s\u001b[0m 1ms/step\n",
            "\u001b[1m782/782\u001b[0m \u001b[32m━━━━━━━━━━━━━━━━━━━━\u001b[0m\u001b[37m\u001b[0m \u001b[1m1s\u001b[0m 1ms/step\n",
            "\u001b[1m782/782\u001b[0m \u001b[32m━━━━━━━━━━━━━━━━━━━━\u001b[0m\u001b[37m\u001b[0m \u001b[1m1s\u001b[0m 1ms/step\n",
            "\u001b[1m782/782\u001b[0m \u001b[32m━━━━━━━━━━━━━━━━━━━━\u001b[0m\u001b[37m\u001b[0m \u001b[1m1s\u001b[0m 1ms/step\n"
          ]
        }
      ]
    },
    {
      "cell_type": "code",
      "source": [
        "def evaluate_model(name, y_true, y_pred):\n",
        "    cm = confusion_matrix(y_true, y_pred)\n",
        "    acc = accuracy_score(y_true, y_pred)\n",
        "    print(f\"\\n {name} - Confusion Matrix\")\n",
        "    print(cm)\n",
        "    print(f\"Accuracy: {acc:.4f}\")\n",
        "\n",
        "evaluate_model(\"Model 1\", y_test, y_pred1)\n",
        "evaluate_model(\"Model 2\", y_test, y_pred2)\n",
        "evaluate_model(\"Model 3\", y_test, y_pred3)\n",
        "evaluate_model(\"Model 4\", y_test, y_pred4)\n",
        "evaluate_model(\"Model 5\", y_test, y_pred5)"
      ],
      "metadata": {
        "colab": {
          "base_uri": "https://localhost:8080/"
        },
        "id": "FFpAnBlyKBm8",
        "outputId": "e629deec-9374-431c-c2be-5292067a4e08"
      },
      "execution_count": null,
      "outputs": [
        {
          "output_type": "stream",
          "name": "stdout",
          "text": [
            "\n",
            " Model 1 - Confusion Matrix\n",
            "[[10196  2304]\n",
            " [ 2166 10334]]\n",
            "Accuracy: 0.8212\n",
            "\n",
            " Model 2 - Confusion Matrix\n",
            "[[10446  2054]\n",
            " [ 2057 10443]]\n",
            "Accuracy: 0.8356\n",
            "\n",
            " Model 3 - Confusion Matrix\n",
            "[[10108  2392]\n",
            " [ 2391 10109]]\n",
            "Accuracy: 0.8087\n",
            "\n",
            " Model 4 - Confusion Matrix\n",
            "[[10385  2115]\n",
            " [ 2033 10467]]\n",
            "Accuracy: 0.8341\n",
            "\n",
            " Model 5 - Confusion Matrix\n",
            "[[10126  2374]\n",
            " [ 2319 10181]]\n",
            "Accuracy: 0.8123\n"
          ]
        }
      ]
    },
    {
      "cell_type": "markdown",
      "source": [
        "상대적으로 뉴런 수를 증가시키고, Optimizer를 adam 설정. epochs 상대적으로 감소하여 학습시킨 Model2가 정확도 0.8356으로 가장 높게 나왔다. 따라서 Model2의 성능이 가장 좋다고 볼 수 있다."
      ],
      "metadata": {
        "id": "YeaXTGIUNNiW"
      }
    },
    {
      "cell_type": "markdown",
      "source": [
        "**(f) (d)에서 정의한 모델 중 하나를 선택하여 callback option을 설정하여 학습을 진행할 것이다.\n",
        "epoch=100, batch_size=32으로 설정한 후, Call back option을 사용하여 model의 accuracy가 20\n",
        "번 동안 좋아지지 않으면 학습을 멈추도록 설정하시오. 또한, training history를 시각화하여\n",
        "plot을 첨부하시오.**"
      ],
      "metadata": {
        "id": "-c_ZpVmFH5os"
      }
    },
    {
      "cell_type": "code",
      "source": [
        "from tensorflow.keras.callbacks import EarlyStopping\n",
        "import matplotlib.pyplot as plt\n",
        "\n",
        "early_stop = EarlyStopping(\n",
        "    monitor='val_accuracy',\n",
        "    mode='max',\n",
        "    patience=20,\n",
        "    restore_best_weights=True\n",
        ")\n",
        "\n",
        "model2.compile(optimizer='adam', loss='binary_crossentropy', metrics=['acc'])\n",
        "history2 = model2.fit(x_train, y_train, epochs=100, batch_size=32, validation_data=(x_val, y_val),\n",
        "                      callbacks=[early_stop])"
      ],
      "metadata": {
        "colab": {
          "base_uri": "https://localhost:8080/"
        },
        "id": "bVcusbSaH68c",
        "outputId": "a50ff371-b8a4-4bdb-b97c-128dc17f6fcb"
      },
      "execution_count": null,
      "outputs": [
        {
          "output_type": "stream",
          "name": "stdout",
          "text": [
            "Epoch 1/100\n",
            "\u001b[1m625/625\u001b[0m \u001b[32m━━━━━━━━━━━━━━━━━━━━\u001b[0m\u001b[37m\u001b[0m \u001b[1m4s\u001b[0m 4ms/step - acc: 0.9983 - loss: 0.0046 - val_acc: 0.8080 - val_loss: 1.1707\n",
            "Epoch 2/100\n"
          ]
        },
        {
          "output_type": "stream",
          "name": "stderr",
          "text": [
            "/usr/local/lib/python3.11/dist-packages/keras/src/callbacks/early_stopping.py:153: UserWarning: Early stopping conditioned on metric `val_accuracy` which is not available. Available metrics are: acc,loss,val_acc,val_loss\n",
            "  current = self.get_monitor_value(logs)\n"
          ]
        },
        {
          "output_type": "stream",
          "name": "stdout",
          "text": [
            "\u001b[1m625/625\u001b[0m \u001b[32m━━━━━━━━━━━━━━━━━━━━\u001b[0m\u001b[37m\u001b[0m \u001b[1m5s\u001b[0m 5ms/step - acc: 0.9968 - loss: 0.0101 - val_acc: 0.8164 - val_loss: 1.0906\n",
            "Epoch 3/100\n",
            "\u001b[1m625/625\u001b[0m \u001b[32m━━━━━━━━━━━━━━━━━━━━\u001b[0m\u001b[37m\u001b[0m \u001b[1m4s\u001b[0m 3ms/step - acc: 0.9999 - loss: 6.2883e-04 - val_acc: 0.8194 - val_loss: 1.1357\n",
            "Epoch 4/100\n",
            "\u001b[1m625/625\u001b[0m \u001b[32m━━━━━━━━━━━━━━━━━━━━\u001b[0m\u001b[37m\u001b[0m \u001b[1m3s\u001b[0m 4ms/step - acc: 0.9998 - loss: 7.5527e-04 - val_acc: 0.8162 - val_loss: 1.1555\n",
            "Epoch 5/100\n",
            "\u001b[1m625/625\u001b[0m \u001b[32m━━━━━━━━━━━━━━━━━━━━\u001b[0m\u001b[37m\u001b[0m \u001b[1m2s\u001b[0m 4ms/step - acc: 1.0000 - loss: 1.6194e-05 - val_acc: 0.8160 - val_loss: 1.1681\n",
            "Epoch 6/100\n",
            "\u001b[1m625/625\u001b[0m \u001b[32m━━━━━━━━━━━━━━━━━━━━\u001b[0m\u001b[37m\u001b[0m \u001b[1m3s\u001b[0m 4ms/step - acc: 1.0000 - loss: 9.1707e-06 - val_acc: 0.8168 - val_loss: 1.1810\n",
            "Epoch 7/100\n",
            "\u001b[1m625/625\u001b[0m \u001b[32m━━━━━━━━━━━━━━━━━━━━\u001b[0m\u001b[37m\u001b[0m \u001b[1m2s\u001b[0m 4ms/step - acc: 1.0000 - loss: 6.3179e-06 - val_acc: 0.8172 - val_loss: 1.1949\n",
            "Epoch 8/100\n",
            "\u001b[1m625/625\u001b[0m \u001b[32m━━━━━━━━━━━━━━━━━━━━\u001b[0m\u001b[37m\u001b[0m \u001b[1m2s\u001b[0m 3ms/step - acc: 1.0000 - loss: 4.9132e-06 - val_acc: 0.8186 - val_loss: 1.2092\n",
            "Epoch 9/100\n",
            "\u001b[1m625/625\u001b[0m \u001b[32m━━━━━━━━━━━━━━━━━━━━\u001b[0m\u001b[37m\u001b[0m \u001b[1m3s\u001b[0m 4ms/step - acc: 1.0000 - loss: 3.8610e-06 - val_acc: 0.8184 - val_loss: 1.2242\n",
            "Epoch 10/100\n",
            "\u001b[1m625/625\u001b[0m \u001b[32m━━━━━━━━━━━━━━━━━━━━\u001b[0m\u001b[37m\u001b[0m \u001b[1m4s\u001b[0m 7ms/step - acc: 1.0000 - loss: 2.7759e-06 - val_acc: 0.8192 - val_loss: 1.2397\n",
            "Epoch 11/100\n",
            "\u001b[1m625/625\u001b[0m \u001b[32m━━━━━━━━━━━━━━━━━━━━\u001b[0m\u001b[37m\u001b[0m \u001b[1m3s\u001b[0m 3ms/step - acc: 1.0000 - loss: 2.0889e-06 - val_acc: 0.8194 - val_loss: 1.2562\n",
            "Epoch 12/100\n",
            "\u001b[1m625/625\u001b[0m \u001b[32m━━━━━━━━━━━━━━━━━━━━\u001b[0m\u001b[37m\u001b[0m \u001b[1m2s\u001b[0m 3ms/step - acc: 1.0000 - loss: 1.5486e-06 - val_acc: 0.8196 - val_loss: 1.2730\n",
            "Epoch 13/100\n",
            "\u001b[1m625/625\u001b[0m \u001b[32m━━━━━━━━━━━━━━━━━━━━\u001b[0m\u001b[37m\u001b[0m \u001b[1m2s\u001b[0m 3ms/step - acc: 1.0000 - loss: 1.1474e-06 - val_acc: 0.8192 - val_loss: 1.2907\n",
            "Epoch 14/100\n",
            "\u001b[1m625/625\u001b[0m \u001b[32m━━━━━━━━━━━━━━━━━━━━\u001b[0m\u001b[37m\u001b[0m \u001b[1m3s\u001b[0m 3ms/step - acc: 1.0000 - loss: 8.3714e-07 - val_acc: 0.8190 - val_loss: 1.3089\n",
            "Epoch 15/100\n",
            "\u001b[1m625/625\u001b[0m \u001b[32m━━━━━━━━━━━━━━━━━━━━\u001b[0m\u001b[37m\u001b[0m \u001b[1m3s\u001b[0m 4ms/step - acc: 1.0000 - loss: 5.9417e-07 - val_acc: 0.8186 - val_loss: 1.3280\n",
            "Epoch 16/100\n",
            "\u001b[1m625/625\u001b[0m \u001b[32m━━━━━━━━━━━━━━━━━━━━\u001b[0m\u001b[37m\u001b[0m \u001b[1m2s\u001b[0m 4ms/step - acc: 1.0000 - loss: 4.5035e-07 - val_acc: 0.8188 - val_loss: 1.3471\n",
            "Epoch 17/100\n",
            "\u001b[1m625/625\u001b[0m \u001b[32m━━━━━━━━━━━━━━━━━━━━\u001b[0m\u001b[37m\u001b[0m \u001b[1m2s\u001b[0m 3ms/step - acc: 1.0000 - loss: 3.2678e-07 - val_acc: 0.8184 - val_loss: 1.3671\n",
            "Epoch 18/100\n",
            "\u001b[1m625/625\u001b[0m \u001b[32m━━━━━━━━━━━━━━━━━━━━\u001b[0m\u001b[37m\u001b[0m \u001b[1m3s\u001b[0m 3ms/step - acc: 1.0000 - loss: 2.4453e-07 - val_acc: 0.8184 - val_loss: 1.3872\n",
            "Epoch 19/100\n",
            "\u001b[1m625/625\u001b[0m \u001b[32m━━━━━━━━━━━━━━━━━━━━\u001b[0m\u001b[37m\u001b[0m \u001b[1m2s\u001b[0m 3ms/step - acc: 1.0000 - loss: 1.7936e-07 - val_acc: 0.8180 - val_loss: 1.4080\n",
            "Epoch 20/100\n",
            "\u001b[1m625/625\u001b[0m \u001b[32m━━━━━━━━━━━━━━━━━━━━\u001b[0m\u001b[37m\u001b[0m \u001b[1m3s\u001b[0m 4ms/step - acc: 1.0000 - loss: 1.2828e-07 - val_acc: 0.8178 - val_loss: 1.4293\n",
            "Epoch 21/100\n",
            "\u001b[1m625/625\u001b[0m \u001b[32m━━━━━━━━━━━━━━━━━━━━\u001b[0m\u001b[37m\u001b[0m \u001b[1m3s\u001b[0m 4ms/step - acc: 1.0000 - loss: 9.3628e-08 - val_acc: 0.8182 - val_loss: 1.4502\n",
            "Epoch 22/100\n",
            "\u001b[1m625/625\u001b[0m \u001b[32m━━━━━━━━━━━━━━━━━━━━\u001b[0m\u001b[37m\u001b[0m \u001b[1m2s\u001b[0m 3ms/step - acc: 1.0000 - loss: 7.3257e-08 - val_acc: 0.8178 - val_loss: 1.4720\n",
            "Epoch 23/100\n",
            "\u001b[1m625/625\u001b[0m \u001b[32m━━━━━━━━━━━━━━━━━━━━\u001b[0m\u001b[37m\u001b[0m \u001b[1m2s\u001b[0m 3ms/step - acc: 1.0000 - loss: 5.2504e-08 - val_acc: 0.8186 - val_loss: 1.4934\n",
            "Epoch 24/100\n",
            "\u001b[1m625/625\u001b[0m \u001b[32m━━━━━━━━━━━━━━━━━━━━\u001b[0m\u001b[37m\u001b[0m \u001b[1m2s\u001b[0m 3ms/step - acc: 1.0000 - loss: 4.0493e-08 - val_acc: 0.8196 - val_loss: 1.5147\n",
            "Epoch 25/100\n",
            "\u001b[1m625/625\u001b[0m \u001b[32m━━━━━━━━━━━━━━━━━━━━\u001b[0m\u001b[37m\u001b[0m \u001b[1m3s\u001b[0m 3ms/step - acc: 1.0000 - loss: 2.8593e-08 - val_acc: 0.8192 - val_loss: 1.5363\n",
            "Epoch 26/100\n",
            "\u001b[1m625/625\u001b[0m \u001b[32m━━━━━━━━━━━━━━━━━━━━\u001b[0m\u001b[37m\u001b[0m \u001b[1m2s\u001b[0m 3ms/step - acc: 1.0000 - loss: 2.1186e-08 - val_acc: 0.8188 - val_loss: 1.5578\n",
            "Epoch 27/100\n",
            "\u001b[1m625/625\u001b[0m \u001b[32m━━━━━━━━━━━━━━━━━━━━\u001b[0m\u001b[37m\u001b[0m \u001b[1m3s\u001b[0m 4ms/step - acc: 1.0000 - loss: 1.6801e-08 - val_acc: 0.8194 - val_loss: 1.5787\n",
            "Epoch 28/100\n",
            "\u001b[1m625/625\u001b[0m \u001b[32m━━━━━━━━━━━━━━━━━━━━\u001b[0m\u001b[37m\u001b[0m \u001b[1m2s\u001b[0m 3ms/step - acc: 1.0000 - loss: 1.1647e-08 - val_acc: 0.8194 - val_loss: 1.6001\n",
            "Epoch 29/100\n",
            "\u001b[1m625/625\u001b[0m \u001b[32m━━━━━━━━━━━━━━━━━━━━\u001b[0m\u001b[37m\u001b[0m \u001b[1m3s\u001b[0m 3ms/step - acc: 1.0000 - loss: 9.4195e-09 - val_acc: 0.8194 - val_loss: 1.6210\n",
            "Epoch 30/100\n",
            "\u001b[1m625/625\u001b[0m \u001b[32m━━━━━━━━━━━━━━━━━━━━\u001b[0m\u001b[37m\u001b[0m \u001b[1m2s\u001b[0m 3ms/step - acc: 1.0000 - loss: 6.7262e-09 - val_acc: 0.8196 - val_loss: 1.6419\n",
            "Epoch 31/100\n",
            "\u001b[1m625/625\u001b[0m \u001b[32m━━━━━━━━━━━━━━━━━━━━\u001b[0m\u001b[37m\u001b[0m \u001b[1m2s\u001b[0m 3ms/step - acc: 1.0000 - loss: 5.1936e-09 - val_acc: 0.8194 - val_loss: 1.6626\n",
            "Epoch 32/100\n",
            "\u001b[1m625/625\u001b[0m \u001b[32m━━━━━━━━━━━━━━━━━━━━\u001b[0m\u001b[37m\u001b[0m \u001b[1m2s\u001b[0m 4ms/step - acc: 1.0000 - loss: 4.0324e-09 - val_acc: 0.8192 - val_loss: 1.6827\n",
            "Epoch 33/100\n",
            "\u001b[1m625/625\u001b[0m \u001b[32m━━━━━━━━━━━━━━━━━━━━\u001b[0m\u001b[37m\u001b[0m \u001b[1m3s\u001b[0m 4ms/step - acc: 1.0000 - loss: 3.0796e-09 - val_acc: 0.8188 - val_loss: 1.7029\n",
            "Epoch 34/100\n",
            "\u001b[1m625/625\u001b[0m \u001b[32m━━━━━━━━━━━━━━━━━━━━\u001b[0m\u001b[37m\u001b[0m \u001b[1m2s\u001b[0m 3ms/step - acc: 1.0000 - loss: 2.4377e-09 - val_acc: 0.8186 - val_loss: 1.7216\n",
            "Epoch 35/100\n",
            "\u001b[1m625/625\u001b[0m \u001b[32m━━━━━━━━━━━━━━━━━━━━\u001b[0m\u001b[37m\u001b[0m \u001b[1m2s\u001b[0m 3ms/step - acc: 1.0000 - loss: 1.8516e-09 - val_acc: 0.8188 - val_loss: 1.7406\n",
            "Epoch 36/100\n",
            "\u001b[1m625/625\u001b[0m \u001b[32m━━━━━━━━━━━━━━━━━━━━\u001b[0m\u001b[37m\u001b[0m \u001b[1m2s\u001b[0m 3ms/step - acc: 1.0000 - loss: 1.6098e-09 - val_acc: 0.8188 - val_loss: 1.7574\n",
            "Epoch 37/100\n",
            "\u001b[1m625/625\u001b[0m \u001b[32m━━━━━━━━━━━━━━━━━━━━\u001b[0m\u001b[37m\u001b[0m \u001b[1m2s\u001b[0m 3ms/step - acc: 1.0000 - loss: 1.2031e-09 - val_acc: 0.8188 - val_loss: 1.7750\n",
            "Epoch 38/100\n",
            "\u001b[1m625/625\u001b[0m \u001b[32m━━━━━━━━━━━━━━━━━━━━\u001b[0m\u001b[37m\u001b[0m \u001b[1m3s\u001b[0m 4ms/step - acc: 1.0000 - loss: 9.7526e-10 - val_acc: 0.8188 - val_loss: 1.7916\n",
            "Epoch 39/100\n",
            "\u001b[1m625/625\u001b[0m \u001b[32m━━━━━━━━━━━━━━━━━━━━\u001b[0m\u001b[37m\u001b[0m \u001b[1m2s\u001b[0m 3ms/step - acc: 1.0000 - loss: 7.7390e-10 - val_acc: 0.8192 - val_loss: 1.8060\n",
            "Epoch 40/100\n",
            "\u001b[1m625/625\u001b[0m \u001b[32m━━━━━━━━━━━━━━━━━━━━\u001b[0m\u001b[37m\u001b[0m \u001b[1m3s\u001b[0m 3ms/step - acc: 1.0000 - loss: 6.0887e-10 - val_acc: 0.8190 - val_loss: 1.8201\n",
            "Epoch 41/100\n",
            "\u001b[1m625/625\u001b[0m \u001b[32m━━━━━━━━━━━━━━━━━━━━\u001b[0m\u001b[37m\u001b[0m \u001b[1m2s\u001b[0m 3ms/step - acc: 1.0000 - loss: 5.4885e-10 - val_acc: 0.8190 - val_loss: 1.8324\n",
            "Epoch 42/100\n",
            "\u001b[1m625/625\u001b[0m \u001b[32m━━━━━━━━━━━━━━━━━━━━\u001b[0m\u001b[37m\u001b[0m \u001b[1m2s\u001b[0m 3ms/step - acc: 1.0000 - loss: 4.6340e-10 - val_acc: 0.8192 - val_loss: 1.8433\n",
            "Epoch 43/100\n",
            "\u001b[1m625/625\u001b[0m \u001b[32m━━━━━━━━━━━━━━━━━━━━\u001b[0m\u001b[37m\u001b[0m \u001b[1m2s\u001b[0m 3ms/step - acc: 1.0000 - loss: 4.1106e-10 - val_acc: 0.8190 - val_loss: 1.8545\n",
            "Epoch 44/100\n",
            "\u001b[1m625/625\u001b[0m \u001b[32m━━━━━━━━━━━━━━━━━━━━\u001b[0m\u001b[37m\u001b[0m \u001b[1m2s\u001b[0m 4ms/step - acc: 1.0000 - loss: 3.5156e-10 - val_acc: 0.8188 - val_loss: 1.8651\n",
            "Epoch 45/100\n",
            "\u001b[1m625/625\u001b[0m \u001b[32m━━━━━━━━━━━━━━━━━━━━\u001b[0m\u001b[37m\u001b[0m \u001b[1m3s\u001b[0m 4ms/step - acc: 1.0000 - loss: 3.0363e-10 - val_acc: 0.8190 - val_loss: 1.8736\n",
            "Epoch 46/100\n",
            "\u001b[1m625/625\u001b[0m \u001b[32m━━━━━━━━━━━━━━━━━━━━\u001b[0m\u001b[37m\u001b[0m \u001b[1m2s\u001b[0m 3ms/step - acc: 1.0000 - loss: 2.6351e-10 - val_acc: 0.8190 - val_loss: 1.8822\n",
            "Epoch 47/100\n",
            "\u001b[1m625/625\u001b[0m \u001b[32m━━━━━━━━━━━━━━━━━━━━\u001b[0m\u001b[37m\u001b[0m \u001b[1m3s\u001b[0m 3ms/step - acc: 1.0000 - loss: 2.4901e-10 - val_acc: 0.8186 - val_loss: 1.8895\n",
            "Epoch 48/100\n",
            "\u001b[1m625/625\u001b[0m \u001b[32m━━━━━━━━━━━━━━━━━━━━\u001b[0m\u001b[37m\u001b[0m \u001b[1m3s\u001b[0m 3ms/step - acc: 1.0000 - loss: 2.1981e-10 - val_acc: 0.8186 - val_loss: 1.8969\n",
            "Epoch 49/100\n",
            "\u001b[1m625/625\u001b[0m \u001b[32m━━━━━━━━━━━━━━━━━━━━\u001b[0m\u001b[37m\u001b[0m \u001b[1m2s\u001b[0m 4ms/step - acc: 1.0000 - loss: 2.0106e-10 - val_acc: 0.8186 - val_loss: 1.9034\n",
            "Epoch 50/100\n",
            "\u001b[1m625/625\u001b[0m \u001b[32m━━━━━━━━━━━━━━━━━━━━\u001b[0m\u001b[37m\u001b[0m \u001b[1m3s\u001b[0m 4ms/step - acc: 1.0000 - loss: 1.9397e-10 - val_acc: 0.8186 - val_loss: 1.9092\n",
            "Epoch 51/100\n",
            "\u001b[1m625/625\u001b[0m \u001b[32m━━━━━━━━━━━━━━━━━━━━\u001b[0m\u001b[37m\u001b[0m \u001b[1m5s\u001b[0m 3ms/step - acc: 1.0000 - loss: 1.6978e-10 - val_acc: 0.8184 - val_loss: 1.9145\n",
            "Epoch 52/100\n",
            "\u001b[1m625/625\u001b[0m \u001b[32m━━━━━━━━━━━━━━━━━━━━\u001b[0m\u001b[37m\u001b[0m \u001b[1m2s\u001b[0m 3ms/step - acc: 1.0000 - loss: 1.5351e-10 - val_acc: 0.8182 - val_loss: 1.9193\n",
            "Epoch 53/100\n",
            "\u001b[1m625/625\u001b[0m \u001b[32m━━━━━━━━━━━━━━━━━━━━\u001b[0m\u001b[37m\u001b[0m \u001b[1m2s\u001b[0m 3ms/step - acc: 1.0000 - loss: 1.4494e-10 - val_acc: 0.8182 - val_loss: 1.9244\n",
            "Epoch 54/100\n",
            "\u001b[1m625/625\u001b[0m \u001b[32m━━━━━━━━━━━━━━━━━━━━\u001b[0m\u001b[37m\u001b[0m \u001b[1m3s\u001b[0m 4ms/step - acc: 1.0000 - loss: 1.3549e-10 - val_acc: 0.8182 - val_loss: 1.9291\n",
            "Epoch 55/100\n",
            "\u001b[1m625/625\u001b[0m \u001b[32m━━━━━━━━━━━━━━━━━━━━\u001b[0m\u001b[37m\u001b[0m \u001b[1m2s\u001b[0m 3ms/step - acc: 1.0000 - loss: 1.3459e-10 - val_acc: 0.8182 - val_loss: 1.9335\n",
            "Epoch 56/100\n",
            "\u001b[1m625/625\u001b[0m \u001b[32m━━━━━━━━━━━━━━━━━━━━\u001b[0m\u001b[37m\u001b[0m \u001b[1m2s\u001b[0m 3ms/step - acc: 1.0000 - loss: 1.2335e-10 - val_acc: 0.8180 - val_loss: 1.9373\n",
            "Epoch 57/100\n",
            "\u001b[1m625/625\u001b[0m \u001b[32m━━━━━━━━━━━━━━━━━━━━\u001b[0m\u001b[37m\u001b[0m \u001b[1m2s\u001b[0m 3ms/step - acc: 1.0000 - loss: 1.1956e-10 - val_acc: 0.8180 - val_loss: 1.9411\n",
            "Epoch 58/100\n",
            "\u001b[1m625/625\u001b[0m \u001b[32m━━━━━━━━━━━━━━━━━━━━\u001b[0m\u001b[37m\u001b[0m \u001b[1m2s\u001b[0m 3ms/step - acc: 1.0000 - loss: 1.1365e-10 - val_acc: 0.8180 - val_loss: 1.9450\n",
            "Epoch 59/100\n",
            "\u001b[1m625/625\u001b[0m \u001b[32m━━━━━━━━━━━━━━━━━━━━\u001b[0m\u001b[37m\u001b[0m \u001b[1m2s\u001b[0m 4ms/step - acc: 1.0000 - loss: 1.0775e-10 - val_acc: 0.8182 - val_loss: 1.9484\n",
            "Epoch 60/100\n",
            "\u001b[1m625/625\u001b[0m \u001b[32m━━━━━━━━━━━━━━━━━━━━\u001b[0m\u001b[37m\u001b[0m \u001b[1m3s\u001b[0m 4ms/step - acc: 1.0000 - loss: 1.0510e-10 - val_acc: 0.8182 - val_loss: 1.9518\n",
            "Epoch 61/100\n",
            "\u001b[1m625/625\u001b[0m \u001b[32m━━━━━━━━━━━━━━━━━━━━\u001b[0m\u001b[37m\u001b[0m \u001b[1m5s\u001b[0m 3ms/step - acc: 1.0000 - loss: 9.5821e-11 - val_acc: 0.8184 - val_loss: 1.9550\n",
            "Epoch 62/100\n",
            "\u001b[1m625/625\u001b[0m \u001b[32m━━━━━━━━━━━━━━━━━━━━\u001b[0m\u001b[37m\u001b[0m \u001b[1m2s\u001b[0m 3ms/step - acc: 1.0000 - loss: 9.6039e-11 - val_acc: 0.8182 - val_loss: 1.9579\n",
            "Epoch 63/100\n",
            "\u001b[1m625/625\u001b[0m \u001b[32m━━━━━━━━━━━━━━━━━━━━\u001b[0m\u001b[37m\u001b[0m \u001b[1m3s\u001b[0m 3ms/step - acc: 1.0000 - loss: 9.0722e-11 - val_acc: 0.8184 - val_loss: 1.9608\n",
            "Epoch 64/100\n",
            "\u001b[1m625/625\u001b[0m \u001b[32m━━━━━━━━━━━━━━━━━━━━\u001b[0m\u001b[37m\u001b[0m \u001b[1m4s\u001b[0m 5ms/step - acc: 1.0000 - loss: 8.7477e-11 - val_acc: 0.8184 - val_loss: 1.9637\n",
            "Epoch 65/100\n",
            "\u001b[1m625/625\u001b[0m \u001b[32m━━━━━━━━━━━━━━━━━━━━\u001b[0m\u001b[37m\u001b[0m \u001b[1m2s\u001b[0m 3ms/step - acc: 1.0000 - loss: 8.5031e-11 - val_acc: 0.8184 - val_loss: 1.9664\n",
            "Epoch 66/100\n",
            "\u001b[1m625/625\u001b[0m \u001b[32m━━━━━━━━━━━━━━━━━━━━\u001b[0m\u001b[37m\u001b[0m \u001b[1m3s\u001b[0m 3ms/step - acc: 1.0000 - loss: 8.2392e-11 - val_acc: 0.8184 - val_loss: 1.9689\n",
            "Epoch 67/100\n",
            "\u001b[1m625/625\u001b[0m \u001b[32m━━━━━━━━━━━━━━━━━━━━\u001b[0m\u001b[37m\u001b[0m \u001b[1m2s\u001b[0m 3ms/step - acc: 1.0000 - loss: 8.0267e-11 - val_acc: 0.8184 - val_loss: 1.9714\n",
            "Epoch 68/100\n",
            "\u001b[1m625/625\u001b[0m \u001b[32m━━━━━━━━━━━━━━━━━━━━\u001b[0m\u001b[37m\u001b[0m \u001b[1m2s\u001b[0m 3ms/step - acc: 1.0000 - loss: 7.6947e-11 - val_acc: 0.8184 - val_loss: 1.9741\n",
            "Epoch 69/100\n",
            "\u001b[1m625/625\u001b[0m \u001b[32m━━━━━━━━━━━━━━━━━━━━\u001b[0m\u001b[37m\u001b[0m \u001b[1m3s\u001b[0m 4ms/step - acc: 1.0000 - loss: 7.2824e-11 - val_acc: 0.8184 - val_loss: 1.9762\n",
            "Epoch 70/100\n",
            "\u001b[1m625/625\u001b[0m \u001b[32m━━━━━━━━━━━━━━━━━━━━\u001b[0m\u001b[37m\u001b[0m \u001b[1m5s\u001b[0m 3ms/step - acc: 1.0000 - loss: 7.0253e-11 - val_acc: 0.8184 - val_loss: 1.9786\n",
            "Epoch 71/100\n",
            "\u001b[1m625/625\u001b[0m \u001b[32m━━━━━━━━━━━━━━━━━━━━\u001b[0m\u001b[37m\u001b[0m \u001b[1m2s\u001b[0m 3ms/step - acc: 1.0000 - loss: 6.8327e-11 - val_acc: 0.8184 - val_loss: 1.9807\n",
            "Epoch 72/100\n",
            "\u001b[1m625/625\u001b[0m \u001b[32m━━━━━━━━━━━━━━━━━━━━\u001b[0m\u001b[37m\u001b[0m \u001b[1m2s\u001b[0m 3ms/step - acc: 1.0000 - loss: 6.6277e-11 - val_acc: 0.8184 - val_loss: 1.9827\n",
            "Epoch 73/100\n",
            "\u001b[1m625/625\u001b[0m \u001b[32m━━━━━━━━━━━━━━━━━━━━\u001b[0m\u001b[37m\u001b[0m \u001b[1m3s\u001b[0m 4ms/step - acc: 1.0000 - loss: 6.5466e-11 - val_acc: 0.8184 - val_loss: 1.9849\n",
            "Epoch 74/100\n",
            "\u001b[1m625/625\u001b[0m \u001b[32m━━━━━━━━━━━━━━━━━━━━\u001b[0m\u001b[37m\u001b[0m \u001b[1m3s\u001b[0m 4ms/step - acc: 1.0000 - loss: 6.3152e-11 - val_acc: 0.8184 - val_loss: 1.9869\n",
            "Epoch 75/100\n",
            "\u001b[1m625/625\u001b[0m \u001b[32m━━━━━━━━━━━━━━━━━━━━\u001b[0m\u001b[37m\u001b[0m \u001b[1m2s\u001b[0m 3ms/step - acc: 1.0000 - loss: 6.4557e-11 - val_acc: 0.8184 - val_loss: 1.9891\n",
            "Epoch 76/100\n",
            "\u001b[1m625/625\u001b[0m \u001b[32m━━━━━━━━━━━━━━━━━━━━\u001b[0m\u001b[37m\u001b[0m \u001b[1m2s\u001b[0m 3ms/step - acc: 1.0000 - loss: 6.1492e-11 - val_acc: 0.8184 - val_loss: 1.9907\n",
            "Epoch 77/100\n",
            "\u001b[1m625/625\u001b[0m \u001b[32m━━━━━━━━━━━━━━━━━━━━\u001b[0m\u001b[37m\u001b[0m \u001b[1m3s\u001b[0m 3ms/step - acc: 1.0000 - loss: 5.9782e-11 - val_acc: 0.8184 - val_loss: 1.9926\n",
            "Epoch 78/100\n",
            "\u001b[1m625/625\u001b[0m \u001b[32m━━━━━━━━━━━━━━━━━━━━\u001b[0m\u001b[37m\u001b[0m \u001b[1m2s\u001b[0m 3ms/step - acc: 1.0000 - loss: 6.1745e-11 - val_acc: 0.8184 - val_loss: 1.9945\n",
            "Epoch 79/100\n",
            "\u001b[1m625/625\u001b[0m \u001b[32m━━━━━━━━━━━━━━━━━━━━\u001b[0m\u001b[37m\u001b[0m \u001b[1m3s\u001b[0m 4ms/step - acc: 1.0000 - loss: 5.7475e-11 - val_acc: 0.8184 - val_loss: 1.9963\n",
            "Epoch 80/100\n",
            "\u001b[1m625/625\u001b[0m \u001b[32m━━━━━━━━━━━━━━━━━━━━\u001b[0m\u001b[37m\u001b[0m \u001b[1m2s\u001b[0m 3ms/step - acc: 1.0000 - loss: 5.4044e-11 - val_acc: 0.8184 - val_loss: 1.9981\n",
            "Epoch 81/100\n",
            "\u001b[1m625/625\u001b[0m \u001b[32m━━━━━━━━━━━━━━━━━━━━\u001b[0m\u001b[37m\u001b[0m \u001b[1m2s\u001b[0m 3ms/step - acc: 1.0000 - loss: 5.3046e-11 - val_acc: 0.8184 - val_loss: 1.9998\n",
            "Epoch 82/100\n",
            "\u001b[1m625/625\u001b[0m \u001b[32m━━━━━━━━━━━━━━━━━━━━\u001b[0m\u001b[37m\u001b[0m \u001b[1m3s\u001b[0m 3ms/step - acc: 1.0000 - loss: 5.2725e-11 - val_acc: 0.8184 - val_loss: 2.0015\n",
            "Epoch 83/100\n",
            "\u001b[1m625/625\u001b[0m \u001b[32m━━━━━━━━━━━━━━━━━━━━\u001b[0m\u001b[37m\u001b[0m \u001b[1m2s\u001b[0m 3ms/step - acc: 1.0000 - loss: 5.2201e-11 - val_acc: 0.8184 - val_loss: 2.0031\n",
            "Epoch 84/100\n",
            "\u001b[1m625/625\u001b[0m \u001b[32m━━━━━━━━━━━━━━━━━━━━\u001b[0m\u001b[37m\u001b[0m \u001b[1m2s\u001b[0m 3ms/step - acc: 1.0000 - loss: 5.0304e-11 - val_acc: 0.8182 - val_loss: 2.0046\n",
            "Epoch 85/100\n",
            "\u001b[1m625/625\u001b[0m \u001b[32m━━━━━━━━━━━━━━━━━━━━\u001b[0m\u001b[37m\u001b[0m \u001b[1m3s\u001b[0m 4ms/step - acc: 1.0000 - loss: 5.0467e-11 - val_acc: 0.8182 - val_loss: 2.0062\n",
            "Epoch 86/100\n",
            "\u001b[1m625/625\u001b[0m \u001b[32m━━━━━━━━━━━━━━━━━━━━\u001b[0m\u001b[37m\u001b[0m \u001b[1m2s\u001b[0m 3ms/step - acc: 1.0000 - loss: 4.8360e-11 - val_acc: 0.8182 - val_loss: 2.0076\n",
            "Epoch 87/100\n",
            "\u001b[1m625/625\u001b[0m \u001b[32m━━━━━━━━━━━━━━━━━━━━\u001b[0m\u001b[37m\u001b[0m \u001b[1m2s\u001b[0m 3ms/step - acc: 1.0000 - loss: 4.6765e-11 - val_acc: 0.8182 - val_loss: 2.0092\n",
            "Epoch 88/100\n",
            "\u001b[1m625/625\u001b[0m \u001b[32m━━━━━━━━━━━━━━━━━━━━\u001b[0m\u001b[37m\u001b[0m \u001b[1m2s\u001b[0m 3ms/step - acc: 1.0000 - loss: 4.7075e-11 - val_acc: 0.8184 - val_loss: 2.0105\n",
            "Epoch 89/100\n",
            "\u001b[1m625/625\u001b[0m \u001b[32m━━━━━━━━━━━━━━━━━━━━\u001b[0m\u001b[37m\u001b[0m \u001b[1m3s\u001b[0m 3ms/step - acc: 1.0000 - loss: 4.7136e-11 - val_acc: 0.8184 - val_loss: 2.0120\n",
            "Epoch 90/100\n",
            "\u001b[1m625/625\u001b[0m \u001b[32m━━━━━━━━━━━━━━━━━━━━\u001b[0m\u001b[37m\u001b[0m \u001b[1m3s\u001b[0m 4ms/step - acc: 1.0000 - loss: 4.4483e-11 - val_acc: 0.8184 - val_loss: 2.0134\n",
            "Epoch 91/100\n",
            "\u001b[1m625/625\u001b[0m \u001b[32m━━━━━━━━━━━━━━━━━━━━\u001b[0m\u001b[37m\u001b[0m \u001b[1m4s\u001b[0m 3ms/step - acc: 1.0000 - loss: 4.5316e-11 - val_acc: 0.8184 - val_loss: 2.0147\n",
            "Epoch 92/100\n",
            "\u001b[1m625/625\u001b[0m \u001b[32m━━━━━━━━━━━━━━━━━━━━\u001b[0m\u001b[37m\u001b[0m \u001b[1m2s\u001b[0m 3ms/step - acc: 1.0000 - loss: 4.5990e-11 - val_acc: 0.8184 - val_loss: 2.0162\n",
            "Epoch 93/100\n",
            "\u001b[1m625/625\u001b[0m \u001b[32m━━━━━━━━━━━━━━━━━━━━\u001b[0m\u001b[37m\u001b[0m \u001b[1m3s\u001b[0m 3ms/step - acc: 1.0000 - loss: 4.2560e-11 - val_acc: 0.8184 - val_loss: 2.0174\n",
            "Epoch 94/100\n",
            "\u001b[1m625/625\u001b[0m \u001b[32m━━━━━━━━━━━━━━━━━━━━\u001b[0m\u001b[37m\u001b[0m \u001b[1m2s\u001b[0m 3ms/step - acc: 1.0000 - loss: 4.1427e-11 - val_acc: 0.8184 - val_loss: 2.0188\n",
            "Epoch 95/100\n",
            "\u001b[1m625/625\u001b[0m \u001b[32m━━━━━━━━━━━━━━━━━━━━\u001b[0m\u001b[37m\u001b[0m \u001b[1m3s\u001b[0m 4ms/step - acc: 1.0000 - loss: 4.2252e-11 - val_acc: 0.8184 - val_loss: 2.0200\n",
            "Epoch 96/100\n",
            "\u001b[1m625/625\u001b[0m \u001b[32m━━━━━━━━━━━━━━━━━━━━\u001b[0m\u001b[37m\u001b[0m \u001b[1m2s\u001b[0m 3ms/step - acc: 1.0000 - loss: 4.1207e-11 - val_acc: 0.8184 - val_loss: 2.0213\n",
            "Epoch 97/100\n",
            "\u001b[1m625/625\u001b[0m \u001b[32m━━━━━━━━━━━━━━━━━━━━\u001b[0m\u001b[37m\u001b[0m \u001b[1m3s\u001b[0m 3ms/step - acc: 1.0000 - loss: 4.0380e-11 - val_acc: 0.8184 - val_loss: 2.0225\n",
            "Epoch 98/100\n",
            "\u001b[1m625/625\u001b[0m \u001b[32m━━━━━━━━━━━━━━━━━━━━\u001b[0m\u001b[37m\u001b[0m \u001b[1m2s\u001b[0m 3ms/step - acc: 1.0000 - loss: 3.8611e-11 - val_acc: 0.8184 - val_loss: 2.0237\n",
            "Epoch 99/100\n",
            "\u001b[1m625/625\u001b[0m \u001b[32m━━━━━━━━━━━━━━━━━━━━\u001b[0m\u001b[37m\u001b[0m \u001b[1m3s\u001b[0m 3ms/step - acc: 1.0000 - loss: 3.7796e-11 - val_acc: 0.8184 - val_loss: 2.0249\n",
            "Epoch 100/100\n",
            "\u001b[1m625/625\u001b[0m \u001b[32m━━━━━━━━━━━━━━━━━━━━\u001b[0m\u001b[37m\u001b[0m \u001b[1m3s\u001b[0m 4ms/step - acc: 1.0000 - loss: 3.8275e-11 - val_acc: 0.8186 - val_loss: 2.0261\n"
          ]
        }
      ]
    },
    {
      "cell_type": "code",
      "source": [
        "import matplotlib.pyplot as plt\n",
        "\n",
        "acc = history2.history['acc']\n",
        "val_acc = history2.history['val_acc']\n",
        "loss = history2.history['loss']\n",
        "val_loss = history2.history['val_loss']\n",
        "epochs = range(1, len(acc) + 1)\n",
        "\n",
        "# accuracy\n",
        "plt.plot(epochs, acc, 'bo', label='Training acc')\n",
        "plt.plot(epochs, val_acc, 'b', label='Validation acc')\n",
        "plt.title('Training and validation accuracy')\n",
        "plt.xlabel('Epochs')\n",
        "plt.ylabel('Accuracy')\n",
        "plt.legend()\n",
        "\n",
        "# loss\n",
        "plt.figure()\n",
        "plt.plot(epochs, loss, 'bo', label='Training loss')\n",
        "plt.plot(epochs, val_loss, 'b', label='Validation loss')\n",
        "plt.title('Training and validation loss')\n",
        "plt.xlabel('Epochs')\n",
        "plt.ylabel('Loss')\n",
        "plt.legend()\n",
        "\n",
        "plt.show()"
      ],
      "metadata": {
        "colab": {
          "base_uri": "https://localhost:8080/",
          "height": 927
        },
        "id": "xaeB_DRySDsE",
        "outputId": "5e1af4cc-b4ea-4a40-988a-0a5283825edf"
      },
      "execution_count": null,
      "outputs": [
        {
          "output_type": "display_data",
          "data": {
            "text/plain": [
              "<Figure size 640x480 with 1 Axes>"
            ],
            "image/png": "[encoded data removed]"
          },
          "metadata": {}
        },
        {
          "output_type": "display_data",
          "data": {
            "text/plain": [
              "<Figure size 640x480 with 1 Axes>"
            ],
            "image/png": "[encoded data removed]"
          },
          "metadata": {}
        }
      ]
    }
  ]
}